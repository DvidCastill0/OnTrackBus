{
 "cells": [
  {
   "cell_type": "code",
   "execution_count": 1,
   "metadata": {},
   "outputs": [],
   "source": [
    "import csv\n",
    "import random\n",
    "import datetime\n"
   ]
  },
  {
   "cell_type": "code",
   "execution_count": 13,
   "metadata": {},
   "outputs": [],
   "source": [
    "# Open the input CSV file\n",
    "camiones = [   \n",
    "    {\"Archivo\": \"231-IDA.csv\", \"ID\": 1, \"Orientacion\": 0},\n",
    "    {\"Archivo\": \"231-VUELTA.csv\", \"ID\": 1, \"Orientacion\": 1},\n",
    "    {\"Archivo\": \"615VOCA-IDA.csv\", \"ID\": 2, \"Orientacion\": 0},\n",
    "    {\"Archivo\": \"615VOCA-VUELTA.csv\", \"ID\": 2, \"Orientacion\": 1},\n",
    "    {\"Archivo\": \"15-IDA.csv\", \"ID\": 3, \"Orientacion\": 0},\n",
    "    {\"Archivo\": \"15-VUELTA.csv\", \"ID\": 3, \"Orientacion\": 1},\n",
    "    \n",
    "    #{\"Archivo\": \"178-IDA.csv\", \"ID\": 3, \"Orientacion\": 0},\n",
    "    #{\"Archivo\": \"178-VUELTA.csv\", \"ID\": 3, \"Orientacion\": 1},\n",
    "    #{\"Archivo\": \"644COL-IDA.csv\", \"ID\": 4, \"Orientacion\": 0},\n",
    "    #{\"Archivo\": \"644COL-VUELTA.csv\", \"ID\": 4, \"Orientacion\": 1},\n",
    "    #{\"Archivo\": \"51C-IDA.csv\", \"ID\": 5, \"Orientacion\": 0},\n",
    "    #{\"Archivo\": \"51C-VUELTA.csv\", \"ID\": 5, \"Orientacion\": 1},\n",
    "    #{\"Archivo\": \"136A-IDA.csv\", \"ID\": 6, \"Orientacion\": 0},\n",
    "    #{\"Archivo\": \"136A-VUELTA.csv\", \"ID\": 6, \"Orientacion\": 1},\n",
    "    #{\"Archivo\": \"231C-IDA.csv\", \"ID\": 7, \"Orientacion\": 0},\n",
    "    #{\"Archivo\": \"231C-VUELTA.csv\", \"ID\": 7, \"Orientacion\": 1}\n",
    "    #{\"Archivo\": \"644SBZ-IDA.csv\", \"ID\": 8, \"Orientacion\": 0},\n",
    "    #{\"Archivo\": \"644SBZ-VUELTA.csv\", \"ID\": 8, \"Orientacion\": 1},\n",
    "    #{\"Archivo\": \"647-IDA.csv\", \"ID\": 9, \"Orientacion\": 0},\n",
    "    #{\"Archivo\": \"647-VUELTA.csv\", \"ID\": 9, \"Orientacion\": 1},\n",
    "    #{\"Archivo\": \"604A-IDA.csv\", \"ID\": 10, \"Orientacion\": 0},\n",
    "    #{\"Archivo\": \"604A-VUELTA.csv\", \"ID\": 10, \"Orientacion\": 1}\n",
    "]\n",
    "\n",
    "for camion in camiones:\n",
    "    with open(camion[\"Archivo\"], 'r') as file:\n",
    "        reader = csv.reader(file)\n",
    "        camion[\"data\"] = list(reader)\n",
    "        camion[\"ruta\"] = camion[\"data\"][0]\n",
    "        camion[\"ruta\"][2] = int(camion[\"ruta\"][2])\n",
    "        camion[\"data\"] = camion[\"data\"][1:]\n",
    "        camion[\"horas\"] = get_all_times(camion[\"ruta\"][0], camion[\"ruta\"][1], camion[\"ruta\"][2])\n",
    "\n"
   ]
  },
  {
   "cell_type": "code",
   "execution_count": 11,
   "metadata": {},
   "outputs": [
    {
     "name": "stdout",
     "output_type": "stream",
     "text": [
      "3\n"
     ]
    }
   ],
   "source": [
    "print(camion[\"ID\"])"
   ]
  },
  {
   "cell_type": "code",
   "execution_count": 3,
   "metadata": {},
   "outputs": [],
   "source": [
    "\n",
    "def get_all_times(start, end, spacing):\n",
    "    start_time = datetime.datetime.strptime(start, '%H:%M:%S')\n",
    "    end_time = datetime.datetime.strptime(end, '%H:%M:%S')\n",
    "\n",
    "    times = []\n",
    "    current_time = start_time\n",
    "\n",
    "    while current_time <= end_time:\n",
    "        times.append(current_time.strftime('%H:%M'))\n",
    "        current_time += datetime.timedelta(minutes=spacing)\n",
    "    \n",
    "    return times\n",
    "\n",
    "def add_delay(time, delay : int):\n",
    "    if time == \"00:00\":\n",
    "        return time\n",
    "    time = datetime.datetime.strptime(time, '%H:%M')\n",
    "    time += datetime.timedelta(minutes=delay)\n",
    "    return time.strftime('%H:%M:%S')\n",
    "\n"
   ]
  },
  {
   "cell_type": "code",
   "execution_count": 14,
   "metadata": {},
   "outputs": [],
   "source": [
    "# Obtener data para entrenamiento\n",
    "\n",
    "REGISTROS = 10000\n",
    "# RUTA, FECHA, DIA SEMANA, HORA PREVIA, PARADA, ORIENTACION, HORA CAMION\n",
    "registros = [[\"RUTA\", \"FECHA\", \"DIA SEMANA\", \"HORA PREVIA\", \"PARADA\", \"ORIENTACION\", \"HORA CAMION\"]]\n",
    "for cont in range(REGISTROS):\n",
    "    date = getRandomDate()\n",
    "    camion = random.choice(camiones)\n",
    "    horaCamion = random.choice(camion[\"horas\"])\n",
    "    indexCamion = camion[\"horas\"].index(horaCamion)\n",
    "    horaPrevia =  camion[\"horas\"][indexCamion-1]\n",
    "    parada = random.choice(camion[\"data\"])\n",
    "    registro = [camion[\"ID\"],\n",
    "                date.strftime(\"%d-%m-%Y\"), \n",
    "                date.weekday(), \n",
    "                add_delay(horaPrevia, int(parada[2])),\n",
    "                parada[0],\n",
    "                camion[\"Orientacion\"],\n",
    "                add_delay(horaCamion, int(parada[2])),\n",
    "                ]\n",
    "    registros.append(registro)\n",
    "\n",
    "\n",
    "output_file = 'output4.csv'\n",
    "\n",
    "with open(output_file, 'w', newline='') as file:\n",
    "    writer = csv.writer(file)\n",
    "    writer.writerows(registros)\n"
   ]
  },
  {
   "cell_type": "code",
   "execution_count": 4,
   "metadata": {},
   "outputs": [],
   "source": [
    "# Returno DIA SEM, DIA, MES\n",
    "def getRandomDate(getdate = True):\n",
    "    start_date = datetime.date(2020, 1, 1)\n",
    "    end_date = datetime.date(2023, 1, 31)\n",
    "    random_date = start_date + datetime.timedelta(days=random.randint(0, (end_date - start_date).days))\n",
    "    day_of_week = random_date.weekday()\n",
    "    \n",
    "    \n",
    "\n",
    "    if getdate:\n",
    "        return random_date\n",
    "\n",
    "    return random_date.weekday(), random_date.day, random_date.month"
   ]
  }
 ],
 "metadata": {
  "kernelspec": {
   "display_name": "Python 3",
   "language": "python",
   "name": "python3"
  },
  "language_info": {
   "codemirror_mode": {
    "name": "ipython",
    "version": 3
   },
   "file_extension": ".py",
   "mimetype": "text/x-python",
   "name": "python",
   "nbconvert_exporter": "python",
   "pygments_lexer": "ipython3",
   "version": "3.9.2"
  },
  "orig_nbformat": 4
 },
 "nbformat": 4,
 "nbformat_minor": 2
}
